{
 "cells": [
  {
   "cell_type": "code",
   "execution_count": 25,
   "metadata": {},
   "outputs": [
    {
     "data": {
      "text/plain": [
       "[['Art. 1° ', ' Jessica ', ' Alex ', ' Lorena § Cesar'],\n",
       " ['Art. 10. ', ' Blabla ', ' LALALA ', ' FFF § RR']]"
      ]
     },
     "execution_count": 25,
     "metadata": {},
     "output_type": "execute_result"
    }
   ],
   "source": [
    "import re\n",
    "import pandas as pd\n",
    "\n",
    "t1 = \"Art. 1° \\n\\n§ Jessica \\n\\n§ Alex \\n\\n§ Lorena § Cesar\"\n",
    "t2 = \"Art. 10. \\n\\n§ Blabla \\n\\n§ LALALA \\n\\n§ FFF § RR\"\n",
    "\n",
    "lai_art = [t1, t2]\n",
    "\n",
    "#paragraf = pd.DataFrame({'conteudo': [], \n",
    "#                   'tipo': [], \n",
    "#                   'artigo_referencia': [] })\n",
    "\n",
    "lista2 = []\n",
    "\n",
    "for item in lai_art:\n",
    "    i = item\n",
    "    a = i[0:8]\n",
    "    i = re.split(\"\\n\\n§\", i)\n",
    "    lista2.append(i)\n",
    "\n",
    "lista2\n",
    "#re.split(\"\\n\\n§\", t2)"
   ]
  },
  {
   "cell_type": "code",
   "execution_count": 39,
   "metadata": {},
   "outputs": [
    {
     "data": {
      "text/html": [
       "<div>\n",
       "<style scoped>\n",
       "    .dataframe tbody tr th:only-of-type {\n",
       "        vertical-align: middle;\n",
       "    }\n",
       "\n",
       "    .dataframe tbody tr th {\n",
       "        vertical-align: top;\n",
       "    }\n",
       "\n",
       "    .dataframe thead th {\n",
       "        text-align: right;\n",
       "    }\n",
       "</style>\n",
       "<table border=\"1\" class=\"dataframe\">\n",
       "  <thead>\n",
       "    <tr style=\"text-align: right;\">\n",
       "      <th></th>\n",
       "      <th>conteudo</th>\n",
       "      <th>tipo</th>\n",
       "      <th>artigo_referencia</th>\n",
       "    </tr>\n",
       "  </thead>\n",
       "  <tbody>\n",
       "    <tr>\n",
       "      <th>1</th>\n",
       "      <td>Jessica</td>\n",
       "      <td>paragrafo</td>\n",
       "      <td>Art. 1°</td>\n",
       "    </tr>\n",
       "    <tr>\n",
       "      <th>2</th>\n",
       "      <td>Alex</td>\n",
       "      <td>paragrafo</td>\n",
       "      <td>Art. 1°</td>\n",
       "    </tr>\n",
       "    <tr>\n",
       "      <th>3</th>\n",
       "      <td>Lorena § Cesar</td>\n",
       "      <td>paragrafo</td>\n",
       "      <td>Art. 1°</td>\n",
       "    </tr>\n",
       "    <tr>\n",
       "      <th>1</th>\n",
       "      <td>Blabla</td>\n",
       "      <td>paragrafo</td>\n",
       "      <td>Art. 10.</td>\n",
       "    </tr>\n",
       "    <tr>\n",
       "      <th>2</th>\n",
       "      <td>LALALA</td>\n",
       "      <td>paragrafo</td>\n",
       "      <td>Art. 10.</td>\n",
       "    </tr>\n",
       "    <tr>\n",
       "      <th>3</th>\n",
       "      <td>FFF § RR</td>\n",
       "      <td>paragrafo</td>\n",
       "      <td>Art. 10.</td>\n",
       "    </tr>\n",
       "  </tbody>\n",
       "</table>\n",
       "</div>"
      ],
      "text/plain": [
       "          conteudo       tipo artigo_referencia\n",
       "1         Jessica   paragrafo          Art. 1° \n",
       "2            Alex   paragrafo          Art. 1° \n",
       "3   Lorena § Cesar  paragrafo          Art. 1° \n",
       "1          Blabla   paragrafo          Art. 10.\n",
       "2          LALALA   paragrafo          Art. 10.\n",
       "3         FFF § RR  paragrafo          Art. 10."
      ]
     },
     "execution_count": 39,
     "metadata": {},
     "output_type": "execute_result"
    }
   ],
   "source": [
    "# Código para mais de um parágrafo:\n",
    "\n",
    "par = pd.DataFrame({'conteudo': [], \n",
    "                   'tipo': [], \n",
    "                   'artigo_referencia': [] })\n",
    "\n",
    "\n",
    "for n in range(len(lai_art)):\n",
    "    i = lai_art[n]\n",
    "    a = i[0:8]\n",
    "    i = pd.DataFrame({'conteudo': re.split(\"\\n\\n§\", i)})\n",
    "    i['tipo'] = 'paragrafo'\n",
    "    i['artigo_referencia'] = a\n",
    "    i = i[1:]\n",
    "    par = pd.concat([par , i], axis = 0, sort=False)\n",
    "\n",
    "\n",
    "par"
   ]
  },
  {
   "cell_type": "code",
   "execution_count": 44,
   "metadata": {},
   "outputs": [
    {
     "data": {
      "text/html": [
       "<div>\n",
       "<style scoped>\n",
       "    .dataframe tbody tr th:only-of-type {\n",
       "        vertical-align: middle;\n",
       "    }\n",
       "\n",
       "    .dataframe tbody tr th {\n",
       "        vertical-align: top;\n",
       "    }\n",
       "\n",
       "    .dataframe thead th {\n",
       "        text-align: right;\n",
       "    }\n",
       "</style>\n",
       "<table border=\"1\" class=\"dataframe\">\n",
       "  <thead>\n",
       "    <tr style=\"text-align: right;\">\n",
       "      <th></th>\n",
       "      <th>conteudo</th>\n",
       "      <th>tipo</th>\n",
       "      <th>artigo_referencia</th>\n",
       "    </tr>\n",
       "  </thead>\n",
       "  <tbody>\n",
       "    <tr>\n",
       "      <th>1</th>\n",
       "      <td>Jessica</td>\n",
       "      <td>paragrafo</td>\n",
       "      <td>Art. 1°</td>\n",
       "    </tr>\n",
       "    <tr>\n",
       "      <th>2</th>\n",
       "      <td>Alex</td>\n",
       "      <td>paragrafo</td>\n",
       "      <td>Art. 1°</td>\n",
       "    </tr>\n",
       "    <tr>\n",
       "      <th>3</th>\n",
       "      <td>Lorena § Cesar</td>\n",
       "      <td>paragrafo</td>\n",
       "      <td>Art. 1°</td>\n",
       "    </tr>\n",
       "    <tr>\n",
       "      <th>1</th>\n",
       "      <td>Blabla</td>\n",
       "      <td>paragrafo</td>\n",
       "      <td>Art. 10.</td>\n",
       "    </tr>\n",
       "    <tr>\n",
       "      <th>2</th>\n",
       "      <td>LALALA</td>\n",
       "      <td>paragrafo</td>\n",
       "      <td>Art. 10.</td>\n",
       "    </tr>\n",
       "    <tr>\n",
       "      <th>3</th>\n",
       "      <td>FFF § RR</td>\n",
       "      <td>paragrafo</td>\n",
       "      <td>Art. 10.</td>\n",
       "    </tr>\n",
       "    <tr>\n",
       "      <th>1</th>\n",
       "      <td>. As pessoas blabla</td>\n",
       "      <td>paragrafo</td>\n",
       "      <td>Art. 15.</td>\n",
       "    </tr>\n",
       "  </tbody>\n",
       "</table>\n",
       "</div>"
      ],
      "text/plain": [
       "               conteudo       tipo artigo_referencia\n",
       "1              Jessica   paragrafo          Art. 1° \n",
       "2                 Alex   paragrafo          Art. 1° \n",
       "3        Lorena § Cesar  paragrafo          Art. 1° \n",
       "1               Blabla   paragrafo          Art. 10.\n",
       "2               LALALA   paragrafo          Art. 10.\n",
       "3              FFF § RR  paragrafo          Art. 10.\n",
       "1   . As pessoas blabla  paragrafo          Art. 15."
      ]
     },
     "execution_count": 44,
     "metadata": {},
     "output_type": "execute_result"
    }
   ],
   "source": [
    "t1 = \"Art. 1° \\n\\n§ Jessica \\n\\n§ Alex \\n\\n§ Lorena § Cesar\"\n",
    "t2 = \"Art. 10. \\n\\n§ Blabla \\n\\n§ LALALA \\n\\n§ FFF § RR\"\n",
    "t3 = \"Art. 15. blablabla \\n\\nParágrafo único . As pessoas blabla\"\n",
    "\n",
    "lai_art = [t1,t2,t3]\n",
    "\n",
    "par = pd.DataFrame({'conteudo': [], \n",
    "                   'tipo': [], \n",
    "                   'artigo_referencia': [] })\n",
    "\n",
    "for n in range(len(lai_art)):\n",
    "    i = lai_art[n]\n",
    "    a = i[0:8]\n",
    "    if \"\\n\\nParágrafo único\" in i:\n",
    "        i = pd.DataFrame({'conteudo': re.split(\"\\n\\nParágrafo único\", i)})\n",
    "    else:\n",
    "        i = pd.DataFrame({'conteudo': re.split(\"\\n\\n§\", i)})\n",
    "    i['tipo'] = 'paragrafo'\n",
    "    i['artigo_referencia'] = a\n",
    "    i = i[1:]\n",
    "    par = pd.concat([par , i], axis = 0, sort=False)\n",
    "\n",
    "par"
   ]
  },
  {
   "cell_type": "code",
   "execution_count": 42,
   "metadata": {},
   "outputs": [
    {
     "name": "stdout",
     "output_type": "stream",
     "text": [
      "No, I won't have it. I want spam!\n"
     ]
    }
   ],
   "source": [
    "food = \"X\"\n",
    "\n",
    "if food == 'spam':\n",
    "    print('Ummmm, my favorite!')\n",
    "else:\n",
    "    print(\"No, I won't have it. I want spam!\")"
   ]
  },
  {
   "cell_type": "code",
   "execution_count": null,
   "metadata": {},
   "outputs": [],
   "source": [
    "# Criando os artigos\n",
    "\n",
    "artigos = [ ]\n",
    "for i in range(1, 10):\n",
    "    i = str(i)\n",
    "    artigos.append('Art. ' + i + 'º ' )\n",
    "    \n",
    "for i in range(10, 100):\n",
    "    i = str(i)\n",
    "    artigos.append('Art. ' + i + '. ' )\n",
    "\n",
    "print(artigos)"
   ]
  },
  {
   "cell_type": "code",
   "execution_count": null,
   "metadata": {},
   "outputs": [],
   "source": [
    "# Para cada elemento em artigos: apague tudo o que vem antes do elemento, \n",
    "# apague tudo o que vem depois do elemento seguinte, parta para o próximo elemento\n",
    "\n",
    "teste = \"Maria \\n Art. 1º blablabla \\n Art. 2º  uuuuu \\n Art. 3º xxx\"\n",
    "content_art = []\n",
    "\n",
    "t1 = re.sub(\".* \\n Art. 2º \", \"\", teste)\n",
    "t1 = re.sub(\"\\n Art. 3º .*\", \"\", t1, flags = re.DOTALL) \n",
    "# a Flag faz com que a regex considere novas linhas\n",
    "\n",
    "artigos2 = artigos[0:6]\n",
    "artigos2\n",
    "\n",
    "output = []\n",
    "\n",
    "for i in range(len(artigos2)):\n",
    "    z = artigos[i]\n",
    "    z = '.* \\n' + z \n",
    "    a = re.sub(z, \"\", teste)\n",
    "    y = artigos[i + 1]\n",
    "    y = y + '.*'\n",
    "    a = re.sub(y, \"\", a, flags = re.DOTALL) \n",
    "    output.append(a)\n",
    "\n",
    "output\n",
    "#for i in artigos:\n",
    "#    z = '^[^' + i + ']*'\n",
    "#    content_art.append(re.sub(z,\"\", teste))\n",
    "\n",
    "#print(content_art)"
   ]
  },
  {
   "cell_type": "code",
   "execution_count": 53,
   "metadata": {},
   "outputs": [
    {
     "name": "stdout",
     "output_type": "stream",
     "text": [
      "ART. 15°\n"
     ]
    }
   ],
   "source": [
    "import re\n",
    "teste = \"ART. 15° E\"\n",
    "\n",
    "print(re.sub(r' [^ ]+$', '', teste))\n",
    "\n",
    "\n"
   ]
  }
 ],
 "metadata": {
  "kernelspec": {
   "display_name": "Python 3",
   "language": "python",
   "name": "python3"
  },
  "language_info": {
   "codemirror_mode": {
    "name": "ipython",
    "version": 3
   },
   "file_extension": ".py",
   "mimetype": "text/x-python",
   "name": "python",
   "nbconvert_exporter": "python",
   "pygments_lexer": "ipython3",
   "version": "3.8.5"
  }
 },
 "nbformat": 4,
 "nbformat_minor": 4
}
