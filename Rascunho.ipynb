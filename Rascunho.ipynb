{
 "cells": [
  {
   "cell_type": "code",
   "execution_count": null,
   "metadata": {},
   "outputs": [],
   "source": [
    "# Criando os artigos\n",
    "\n",
    "artigos = [ ]\n",
    "for i in range(1, 10):\n",
    "    i = str(i)\n",
    "    artigos.append('Art. ' + i + 'º ' )\n",
    "    \n",
    "for i in range(10, 100):\n",
    "    i = str(i)\n",
    "    artigos.append('Art. ' + i + '. ' )\n",
    "\n",
    "print(artigos)"
   ]
  },
  {
   "cell_type": "code",
   "execution_count": null,
   "metadata": {},
   "outputs": [],
   "source": [
    "# Para cada elemento em artigos: apague tudo o que vem antes do elemento, \n",
    "# apague tudo o que vem depois do elemento seguinte, parta para o próximo elemento\n",
    "\n",
    "teste = \"Maria \\n Art. 1º blablabla \\n Art. 2º  uuuuu \\n Art. 3º xxx\"\n",
    "content_art = []\n",
    "\n",
    "t1 = re.sub(\".* \\n Art. 2º \", \"\", teste)\n",
    "t1 = re.sub(\"\\n Art. 3º .*\", \"\", t1, flags = re.DOTALL) \n",
    "# a Flag faz com que a regex considere novas linhas\n",
    "\n",
    "artigos2 = artigos[0:6]\n",
    "artigos2\n",
    "\n",
    "output = []\n",
    "\n",
    "for i in range(len(artigos2)):\n",
    "    z = artigos[i]\n",
    "    z = '.* \\n' + z \n",
    "    a = re.sub(z, \"\", teste)\n",
    "    y = artigos[i + 1]\n",
    "    y = y + '.*'\n",
    "    a = re.sub(y, \"\", a, flags = re.DOTALL) \n",
    "    output.append(a)\n",
    "\n",
    "output\n",
    "#for i in artigos:\n",
    "#    z = '^[^' + i + ']*'\n",
    "#    content_art.append(re.sub(z,\"\", teste))\n",
    "\n",
    "#print(content_art)"
   ]
  },
  {
   "cell_type": "code",
   "execution_count": null,
   "metadata": {},
   "outputs": [],
   "source": []
  }
 ],
 "metadata": {
  "kernelspec": {
   "display_name": "Python 3",
   "language": "python",
   "name": "python3"
  },
  "language_info": {
   "codemirror_mode": {
    "name": "ipython",
    "version": 3
   },
   "file_extension": ".py",
   "mimetype": "text/x-python",
   "name": "python",
   "nbconvert_exporter": "python",
   "pygments_lexer": "ipython3",
   "version": "3.8.5"
  }
 },
 "nbformat": 4,
 "nbformat_minor": 4
}
